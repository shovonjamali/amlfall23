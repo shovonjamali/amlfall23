{
 "cells": [
  {
   "cell_type": "markdown",
   "id": "16e3a006",
   "metadata": {},
   "source": [
    "### Discussion\n",
    "\n",
    "1. maybe the use of predict function is taking argument in wrong order?\n",
    "2. Why changing in the random_state changing the accuracy of the model? [See here.](http://localhost:8888/notebooks/L02-decision-tree/exercises/exercise-dt-2-classes-solved.ipynb)"
   ]
  },
  {
   "cell_type": "code",
   "execution_count": null,
   "id": "15d819ea",
   "metadata": {},
   "outputs": [],
   "source": []
  }
 ],
 "metadata": {
  "kernelspec": {
   "display_name": "Python 3 (ipykernel)",
   "language": "python",
   "name": "python3"
  },
  "language_info": {
   "codemirror_mode": {
    "name": "ipython",
    "version": 3
   },
   "file_extension": ".py",
   "mimetype": "text/x-python",
   "name": "python",
   "nbconvert_exporter": "python",
   "pygments_lexer": "ipython3",
   "version": "3.10.13"
  }
 },
 "nbformat": 4,
 "nbformat_minor": 5
}
