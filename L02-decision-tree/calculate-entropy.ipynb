{
 "cells": [
  {
   "cell_type": "markdown",
   "id": "5c187e44",
   "metadata": {},
   "source": [
    "### Calculate Entropy"
   ]
  },
  {
   "cell_type": "markdown",
   "id": "df3c4720",
   "metadata": {},
   "source": [
    "From the below tree, entropy of the first decision node (left sub-tree) is calculated."
   ]
  },
  {
   "cell_type": "markdown",
   "id": "7fed48e6",
   "metadata": {},
   "source": [
    "![tree](graphics/tree_task_ref.png)"
   ]
  },
  {
   "cell_type": "markdown",
   "id": "0e279c4f",
   "metadata": {},
   "source": [
    "![entropy formula](graphics/entropy_formula.png)"
   ]
  },
  {
   "cell_type": "markdown",
   "id": "8b5525c5",
   "metadata": {},
   "source": [
    "![calculate entropy](graphics/entropy_task.jpg)"
   ]
  },
  {
   "cell_type": "markdown",
   "id": "798f6e90",
   "metadata": {},
   "source": [
    "[Online log2 calculator](https://www.omnicalculator.com/math/log-2)"
   ]
  },
  {
   "cell_type": "code",
   "execution_count": null,
   "id": "70f6ae6b",
   "metadata": {},
   "outputs": [],
   "source": []
  }
 ],
 "metadata": {
  "kernelspec": {
   "display_name": "Python 3 (ipykernel)",
   "language": "python",
   "name": "python3"
  },
  "language_info": {
   "codemirror_mode": {
    "name": "ipython",
    "version": 3
   },
   "file_extension": ".py",
   "mimetype": "text/x-python",
   "name": "python",
   "nbconvert_exporter": "python",
   "pygments_lexer": "ipython3",
   "version": "3.10.13"
  }
 },
 "nbformat": 4,
 "nbformat_minor": 5
}
