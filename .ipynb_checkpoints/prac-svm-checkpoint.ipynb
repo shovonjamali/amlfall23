{
 "cells": [
  {
   "cell_type": "code",
   "execution_count": null,
   "id": "6253d4aa",
   "metadata": {},
   "outputs": [],
   "source": [
    "import warnings\n",
    "warnings.filterwarnings('ignore')\n",
    "warnings.simplefilter('ignore')\n",
    "from sklearn.datasets import make_circles\n",
    "from matplotlib import pyplot as plt\n",
    "import numpy as np\n",
    "\n",
    "# Our data. X is (n, 2), i.e. 2 variables. y is (n,).\n",
    "X, y = make_circles(n_samples=300, noise=0.01)\n",
    "\n",
    "# Adding a new variable\n",
    "z = X[:, 0] ** 2 + X[:, 1] ** 2"
   ]
  },
  {
   "cell_type": "code",
   "execution_count": null,
   "id": "7643cd16",
   "metadata": {},
   "outputs": [],
   "source": []
  }
 ],
 "metadata": {
  "kernelspec": {
   "display_name": "Python 3 (ipykernel)",
   "language": "python",
   "name": "python3"
  },
  "language_info": {
   "codemirror_mode": {
    "name": "ipython",
    "version": 3
   },
   "file_extension": ".py",
   "mimetype": "text/x-python",
   "name": "python",
   "nbconvert_exporter": "python",
   "pygments_lexer": "ipython3",
   "version": "3.10.13"
  }
 },
 "nbformat": 4,
 "nbformat_minor": 5
}
