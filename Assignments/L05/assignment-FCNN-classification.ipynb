{
 "cells": [
  {
   "cell_type": "markdown",
   "metadata": {},
   "source": [
    "# Assignment - classification\n",
    "\n",
    "Hi there! In this assignment, you will use a fully connected neural network (FCNN) to solve an adapted Question 1 of the winter 2023 exam in applied machine learning:\n",
    "\n",
    "As in Assignment 1, the primary objective of this exam is to perform image classification using the PCam dataset. For a detailed description of the dataset, please refer to the assignment 1 description. The assignment is posted as a Kaggle competition and is available here: https://www.kaggle.com/t/cda2949c5097437581cdb9abd32091ae\n",
    "\n",
    "To get you started, I have provided a complete working example, which is decent but not very impressive.\n",
    "\n",
    "When you are done, submit your results on the Kaggle webpage for this competition. If you do not like to show your score to everyone, you may use an anonymous username on Kaggle.\n",
    "\n",
    "However, I suggest you use your real name, after all it is just meant as an exercise and it is more fun that way. You can submit 5 times every day, so you can experiment with some stuff without being \"locked in\".\n",
    "\n",
    "# Details\n",
    "\n",
    "The metric used to score this assignment is accuracy (as in the first assignment).\n",
    "\n",
    "### Question (adapted from the exam):\n",
    "Use FCNN to perform image classification (tumor detection). Consider among other things the following:\n",
    "1. Different activation functions\n",
    "2. Different number of layers\n",
    "3. Different number of neurons in each layer\n",
    "4. Different learning rates\n",
    "5. Different batch sizes\n",
    "6. Different number of epochs\n",
    "7. Different optimizers\n",
    "\n",
    "**Note:** When you do hyperparameter tuning, you should use the validation set. The test set should only be used for the final evaluation.\n"
   ]
  },
  {
   "cell_type": "markdown",
   "metadata": {},
   "source": [
    "# Hints to get you started (with a very simple model)"
   ]
  },
  {
   "cell_type": "code",
   "execution_count": 1,
   "metadata": {},
   "outputs": [],
   "source": [
    "import tensorflow as tf\n",
    "from tensorflow.keras.optimizers import SGD\n",
    "from tensorflow.keras.optimizers import Adam\n",
    "import numpy as np\n",
    "from sklearn.preprocessing import StandardScaler\n",
    "import pandas as pd"
   ]
  },
  {
   "cell_type": "code",
   "execution_count": 6,
   "metadata": {},
   "outputs": [
    {
     "name": "stdout",
     "output_type": "stream",
     "text": [
      "2.10.1\n"
     ]
    }
   ],
   "source": [
    "print(tf.__version__)"
   ]
  },
  {
   "cell_type": "markdown",
   "metadata": {},
   "source": [
    "Defining a function that takes a (None,96,96,3) array and turn it into (None, 32,32,1) (grayscale, resize and normalize). This function might also become handy if the original images are too large for your hardware configuration."
   ]
  },
  {
   "cell_type": "code",
   "execution_count": 2,
   "metadata": {},
   "outputs": [],
   "source": [
    "def resize_and_normalize_image(image):\n",
    "    image = tf.image.resize(image,[32,32])\n",
    "    image = tf.image.rgb_to_grayscale(image)\n",
    "    return image / 255.0\n",
    "\n",
    "def convert_sample(data):\n",
    "\n",
    "# Create a TensorFlow dataset from the training data features\n",
    "    dataset = tf.data.Dataset.from_tensor_slices(data)\n",
    "\n",
    "# Define a function to resize each image in the dataset\n",
    "\n",
    "# Apply the resize function to each image in the dataset\n",
    "    resized_dataset = dataset.map(resize_and_normalize_image)\n",
    "\n",
    "# Convert the resized dataset to a NumPy array\n",
    "    resized_arr = np.array(list(resized_dataset.as_numpy_iterator()))\n",
    "\n",
    "    return resized_arr"
   ]
  },
  {
   "cell_type": "code",
   "execution_count": 23,
   "metadata": {},
   "outputs": [
    {
     "name": "stdout",
     "output_type": "stream",
     "text": [
      "Shape of the raw training data: (26214, 96, 96, 3)\n",
      "Shape of the raw test data: (1638, 96, 96, 3)\n",
      "Shape the resized training data: (26214, 32, 32, 1)\n",
      "Shape the resized test data: (1638, 32, 32, 1)\n",
      "Shape of the raw labels: (26214, 1)\n"
     ]
    }
   ],
   "source": [
    "# Load the training data features\n",
    "X_train_raw = np.load('Xtrain.npy')\n",
    "print(f'Shape of the raw training data: {X_train_raw.shape}')\n",
    "X_test_raw = np.load('Xtest.npy')\n",
    "print(f'Shape of the raw test data: {X_test_raw.shape}')\n",
    "\n",
    "X_train = convert_sample(X_train_raw)\n",
    "print(f'Shape the resized training data: {X_train.shape}')\n",
    "\n",
    "X_test = convert_sample(X_test_raw)\n",
    "print(f'Shape the resized test data: {X_test.shape}')\n",
    "\n",
    "y_raw = np.load('ytrain.npy')\n",
    "y_raw = y_raw.reshape(-1,1) \n",
    "print(f'Shape of the raw labels: {y_raw.shape}')"
   ]
  },
  {
   "cell_type": "code",
   "execution_count": 25,
   "metadata": {},
   "outputs": [
    {
     "name": "stdout",
     "output_type": "stream",
     "text": [
      "Epoch 1/50\n",
      "410/410 [==============================] - 1s 2ms/step - loss: 0.6761 - accuracy: 0.5688\n",
      "Epoch 2/50\n",
      "410/410 [==============================] - 1s 2ms/step - loss: 0.6403 - accuracy: 0.6364\n",
      "Epoch 3/50\n",
      "410/410 [==============================] - 1s 2ms/step - loss: 0.6240 - accuracy: 0.6523\n",
      "Epoch 4/50\n",
      "410/410 [==============================] - 1s 2ms/step - loss: 0.6211 - accuracy: 0.6571\n",
      "Epoch 5/50\n",
      "410/410 [==============================] - 1s 2ms/step - loss: 0.6093 - accuracy: 0.6736\n",
      "Epoch 6/50\n",
      "410/410 [==============================] - 1s 2ms/step - loss: 0.6002 - accuracy: 0.6806\n",
      "Epoch 7/50\n",
      "410/410 [==============================] - 1s 2ms/step - loss: 0.6031 - accuracy: 0.6775\n",
      "Epoch 8/50\n",
      "410/410 [==============================] - 1s 2ms/step - loss: 0.5945 - accuracy: 0.6846\n",
      "Epoch 9/50\n",
      "410/410 [==============================] - 1s 2ms/step - loss: 0.5873 - accuracy: 0.6968\n",
      "Epoch 10/50\n",
      "410/410 [==============================] - 1s 2ms/step - loss: 0.5848 - accuracy: 0.6970\n",
      "Epoch 11/50\n",
      "410/410 [==============================] - 1s 2ms/step - loss: 0.5685 - accuracy: 0.7151\n",
      "Epoch 12/50\n",
      "410/410 [==============================] - 1s 2ms/step - loss: 0.5568 - accuracy: 0.7212\n",
      "Epoch 13/50\n",
      "410/410 [==============================] - 1s 2ms/step - loss: 0.5658 - accuracy: 0.7161\n",
      "Epoch 14/50\n",
      "410/410 [==============================] - 1s 2ms/step - loss: 0.5602 - accuracy: 0.7188\n",
      "Epoch 15/50\n",
      "410/410 [==============================] - 1s 2ms/step - loss: 0.5605 - accuracy: 0.7200\n",
      "Epoch 16/50\n",
      "410/410 [==============================] - 1s 2ms/step - loss: 0.5429 - accuracy: 0.7343\n",
      "Epoch 17/50\n",
      "410/410 [==============================] - 1s 2ms/step - loss: 0.5354 - accuracy: 0.7372\n",
      "Epoch 18/50\n",
      "410/410 [==============================] - 1s 2ms/step - loss: 0.5260 - accuracy: 0.7452\n",
      "Epoch 19/50\n",
      "410/410 [==============================] - 1s 2ms/step - loss: 0.5319 - accuracy: 0.7420\n",
      "Epoch 20/50\n",
      "410/410 [==============================] - 1s 2ms/step - loss: 0.5081 - accuracy: 0.7569\n",
      "Epoch 21/50\n",
      "410/410 [==============================] - 1s 2ms/step - loss: 0.5010 - accuracy: 0.7635\n",
      "Epoch 22/50\n",
      "410/410 [==============================] - 1s 2ms/step - loss: 0.4917 - accuracy: 0.7681\n",
      "Epoch 23/50\n",
      "410/410 [==============================] - 1s 2ms/step - loss: 0.4915 - accuracy: 0.7679\n",
      "Epoch 24/50\n",
      "410/410 [==============================] - 1s 2ms/step - loss: 0.4975 - accuracy: 0.7638\n",
      "Epoch 25/50\n",
      "410/410 [==============================] - 1s 2ms/step - loss: 0.4789 - accuracy: 0.7776\n",
      "Epoch 26/50\n",
      "410/410 [==============================] - 1s 2ms/step - loss: 0.4739 - accuracy: 0.7809\n",
      "Epoch 27/50\n",
      "410/410 [==============================] - 1s 2ms/step - loss: 0.4660 - accuracy: 0.7838\n",
      "Epoch 28/50\n",
      "410/410 [==============================] - 1s 2ms/step - loss: 0.4660 - accuracy: 0.7819\n",
      "Epoch 29/50\n",
      "410/410 [==============================] - 1s 2ms/step - loss: 0.4595 - accuracy: 0.7867\n",
      "Epoch 30/50\n",
      "410/410 [==============================] - 1s 2ms/step - loss: 0.4535 - accuracy: 0.7926\n",
      "Epoch 31/50\n",
      "410/410 [==============================] - 1s 2ms/step - loss: 0.4495 - accuracy: 0.7930\n",
      "Epoch 32/50\n",
      "410/410 [==============================] - 1s 2ms/step - loss: 0.4439 - accuracy: 0.7972\n",
      "Epoch 33/50\n",
      "410/410 [==============================] - 1s 2ms/step - loss: 0.4411 - accuracy: 0.7977\n",
      "Epoch 34/50\n",
      "410/410 [==============================] - 1s 2ms/step - loss: 0.4355 - accuracy: 0.8048\n",
      "Epoch 35/50\n",
      "410/410 [==============================] - 1s 2ms/step - loss: 0.4302 - accuracy: 0.8068\n",
      "Epoch 36/50\n",
      "410/410 [==============================] - 1s 2ms/step - loss: 0.4297 - accuracy: 0.8052\n",
      "Epoch 37/50\n",
      "410/410 [==============================] - 1s 3ms/step - loss: 0.4256 - accuracy: 0.8080\n",
      "Epoch 38/50\n",
      "410/410 [==============================] - 1s 2ms/step - loss: 0.4197 - accuracy: 0.8116\n",
      "Epoch 39/50\n",
      "410/410 [==============================] - 1s 2ms/step - loss: 0.4182 - accuracy: 0.8136\n",
      "Epoch 40/50\n",
      "410/410 [==============================] - 1s 2ms/step - loss: 0.4130 - accuracy: 0.8131\n",
      "Epoch 41/50\n",
      "410/410 [==============================] - 1s 2ms/step - loss: 0.4127 - accuracy: 0.8125\n",
      "Epoch 42/50\n",
      "410/410 [==============================] - 1s 2ms/step - loss: 0.4055 - accuracy: 0.8159\n",
      "Epoch 43/50\n",
      "410/410 [==============================] - 1s 2ms/step - loss: 0.4120 - accuracy: 0.8164\n",
      "Epoch 44/50\n",
      "410/410 [==============================] - 1s 2ms/step - loss: 0.3984 - accuracy: 0.8210\n",
      "Epoch 45/50\n",
      "410/410 [==============================] - 1s 2ms/step - loss: 0.4047 - accuracy: 0.8194\n",
      "Epoch 46/50\n",
      "410/410 [==============================] - 1s 2ms/step - loss: 0.3873 - accuracy: 0.8275\n",
      "Epoch 47/50\n",
      "410/410 [==============================] - 1s 2ms/step - loss: 0.3845 - accuracy: 0.8293\n",
      "Epoch 48/50\n",
      "410/410 [==============================] - 1s 2ms/step - loss: 0.3823 - accuracy: 0.8328\n",
      "Epoch 49/50\n",
      "410/410 [==============================] - 1s 2ms/step - loss: 0.3785 - accuracy: 0.8327\n",
      "Epoch 50/50\n",
      "410/410 [==============================] - 1s 2ms/step - loss: 0.3905 - accuracy: 0.8283\n"
     ]
    },
    {
     "data": {
      "text/plain": [
       "<keras.callbacks.History at 0x23f21facc70>"
      ]
     },
     "execution_count": 25,
     "metadata": {},
     "output_type": "execute_result"
    }
   ],
   "source": [
    "model = tf.keras.models.Sequential([\n",
    "    tf.keras.layers.Flatten(input_shape=(32,32,1)),\n",
    "    tf.keras.layers.Dense(64, activation='relu'),\n",
    "    tf.keras.layers.Dense(128, activation='relu'),\n",
    "    tf.keras.layers.Dense(128, activation='relu'),\n",
    "    tf.keras.layers.Dense(128, activation='relu'),\n",
    "    tf.keras.layers.Dense(2, activation='softmax'),\n",
    "    ])\n",
    "\n",
    "sgd_opt = SGD(learning_rate=0.01, momentum=0.9, nesterov=True) # oob: learning_rate=0.01, momentum=0.9, nesterov=True\n",
    "#adam_opt = Adam(learning_rate=0.01)\n",
    "\n",
    "model.compile(optimizer=sgd_opt,\n",
    "              loss='sparse_categorical_crossentropy',\n",
    "              metrics=['accuracy'])\n",
    "\n",
    "model.fit(X_train, y_raw, epochs=50, batch_size=64, verbose=1) # oob: epochs=10"
   ]
  },
  {
   "cell_type": "markdown",
   "metadata": {},
   "source": [
    "The below code makes predictions and then saves them (after checking they are in correct format).\n",
    "\n",
    "The argmax converts probabilities to specific class predictions.\n",
    "\n",
    "And finally convert to appropriate $\\texttt{.csv}$ for Kaggle submit."
   ]
  },
  {
   "cell_type": "code",
   "execution_count": 26,
   "metadata": {},
   "outputs": [
    {
     "name": "stdout",
     "output_type": "stream",
     "text": [
      "52/52 [==============================] - 0s 1ms/step\n"
     ]
    }
   ],
   "source": [
    "y_test_hat = model.predict(X_test)\n",
    "y_test_hat = np.argmax(y_test_hat, axis=1)\n",
    "\n",
    "ytest_hat_pd = pd.DataFrame({\n",
    "    'Id': list(range(len(y_test_hat))),\n",
    "    'Predicted': y_test_hat.reshape(-1,),\n",
    "})\n",
    "\n",
    "ytest_hat_pd.to_csv('y_test_hat_fcnn.csv', index=False)"
   ]
  },
  {
   "cell_type": "code",
   "execution_count": null,
   "metadata": {},
   "outputs": [],
   "source": []
  }
 ],
 "metadata": {
  "kernelspec": {
   "display_name": "Python 3 (ipykernel)",
   "language": "python",
   "name": "python3"
  },
  "language_info": {
   "codemirror_mode": {
    "name": "ipython",
    "version": 3
   },
   "file_extension": ".py",
   "mimetype": "text/x-python",
   "name": "python",
   "nbconvert_exporter": "python",
   "pygments_lexer": "ipython3",
   "version": "3.10.13"
  },
  "vscode": {
   "interpreter": {
    "hash": "d3cedec8935a2c28d6fd602c3007747750e2af1c4c937c29fac0d323bf1b544b"
   }
  }
 },
 "nbformat": 4,
 "nbformat_minor": 4
}
