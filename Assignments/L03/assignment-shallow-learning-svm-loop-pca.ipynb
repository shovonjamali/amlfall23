{
 "cells": [
  {
   "cell_type": "markdown",
   "metadata": {},
   "source": [
    "# Assignment - shallow learning\n",
    "\n",
    "Hi there! In this assignment, you will use shallow learning (including svm, random forests and gradient boosting if you feel up for the challenge) to solve an adapted Question 1 of the winter 2023 exam in applied machine learning:\n",
    "\n",
    "## Introduction:\n",
    "\n",
    "During the semester you have become very excited about the field of digital pathology which is an area that is developing rapidly due to advancements in microscopy imaging hardware. These advancements have allowed digitizing glass slides into whole-slide images. You have recently read the paper by [Veeling et al (2018)](https://arxiv.org/abs/1806.03962) and you are thrilled to see that the authors have derived a novel dataset, denoted PatchCamelyon (PCam), that will enable you to develop and benchmark your own machine learning models. As Veeling et al (2018) you are primarily interested in developing machine learning models that based on patches of whole-slide images of lymph node sections can assist pathologist in tumor detection. \n",
    "\n",
    "The primary objective of this exam is to perform image classification using the PCam dataset. The full dataset consists of 327,680 color images (96x96pxs) extracted from histopathologic scans of lymph node sections. Each image is annotated with a binary label indicating presence of metastatic tissue. For this assignment, however, you are only going to use the subset of the data which have been made available on Kaggle.\n",
    "\n",
    "### Question 1 (adapted from the exam):\n",
    "Use non-deep learning to perform image classification (tumor detection). Consider among other things the following:\n",
    "1. Support vector machines\n",
    "2. Random forests\n",
    "3. Boosting\n",
    "4. A combination of two or all three of the methods\n",
    "5. Assess the importance of image resolution for the methods you are using\n",
    "\n",
    "The assignment is posted as a Kaggle competition and is available here: https://www.kaggle.com/t/1f880200648443a3a30878d318cc6e4b\n"
   ]
  },
  {
   "cell_type": "markdown",
   "metadata": {},
   "source": [
    "# Hints to get you started (with a very simple model)"
   ]
  },
  {
   "cell_type": "code",
   "execution_count": 1,
   "metadata": {},
   "outputs": [],
   "source": [
    "from sklearn import svm\n",
    "from sklearn.ensemble import RandomForestClassifier\n",
    "from sklearn.metrics import accuracy_score\n",
    "import numpy as np\n",
    "import pandas as pd\n",
    "import tqdm\n",
    "import tensorflow as tf\n",
    "from sklearn.preprocessing import StandardScaler"
   ]
  },
  {
   "cell_type": "markdown",
   "metadata": {},
   "source": [
    "Defining a function that grayscale, resize and flattens the image. This function might also become handy (for deep learning later) if the original images are too large for your hardware configuration."
   ]
  },
  {
   "cell_type": "code",
   "execution_count": 2,
   "metadata": {},
   "outputs": [],
   "source": [
    "def convert_sample(image):\n",
    "    image = tf.image.rgb_to_grayscale(image)\n",
    "    image = tf.image.resize(image,[32,32]).numpy()\n",
    "    image = image.reshape(1,-1)\n",
    "    return image"
   ]
  },
  {
   "cell_type": "code",
   "execution_count": 3,
   "metadata": {},
   "outputs": [
    {
     "name": "stderr",
     "output_type": "stream",
     "text": [
      "G:\\ML_Practice\\amlfall23\\env\\lib\\site-packages\\sklearn\\utils\\_param_validation.py:591: FutureWarning: Passing an int for a boolean parameter is deprecated in version 1.2 and won't be supported anymore in version 1.4.\n",
      "  warnings.warn(\n"
     ]
    },
    {
     "name": "stdout",
     "output_type": "stream",
     "text": [
      "Shape of training data features (observations,features): (26214, 1024)\n",
      "Shape of training data labels (observations,): (26214,)\n",
      "Shape of training data features (observations,features): (1638, 1024)\n"
     ]
    },
    {
     "name": "stderr",
     "output_type": "stream",
     "text": [
      "G:\\ML_Practice\\amlfall23\\env\\lib\\site-packages\\sklearn\\utils\\_param_validation.py:591: FutureWarning: Passing an int for a boolean parameter is deprecated in version 1.2 and won't be supported anymore in version 1.4.\n",
      "  warnings.warn(\n"
     ]
    }
   ],
   "source": [
    "X = np.load('Xtrain.npy') \n",
    "X = np.vstack(list(map(convert_sample,X)))\n",
    "X = StandardScaler(with_mean=0, with_std=1).fit_transform(X)\n",
    "print(f'Shape of training data features (observations,features): {X.shape}')\n",
    "\n",
    "y = np.load('ytrain.npy') \n",
    "y = y.reshape(-1,)    \n",
    "print(f'Shape of training data labels (observations,): {y.shape}')\n",
    "\n",
    "Xtest = np.load('Xtest.npy') \n",
    "Xtest = np.vstack(list(map(convert_sample,Xtest)))\n",
    "Xtest = StandardScaler(with_mean=0, with_std=1).fit_transform(Xtest)\n",
    "print(f'Shape of training data features (observations,features): {Xtest.shape}')"
   ]
  },
  {
   "cell_type": "markdown",
   "metadata": {},
   "source": [
    "The data is then ready to be applied for training and prediction in a shallow learning model such as the SVM classifier...below just a very very simple illustration on how to construct and train a support vector machine based on the data we have prepared. The predicted file can be submitted to Kaggle for evaluation."
   ]
  },
  {
   "cell_type": "code",
   "execution_count": 4,
   "metadata": {},
   "outputs": [],
   "source": [
    "# Dimensionality reduction with PCA\n",
    "from sklearn.decomposition import PCA\n",
    "n_components = 100  # Adjust this value as needed\n",
    "pca = PCA(n_components=n_components)\n",
    "X_pca = pca.fit_transform(X)\n",
    "Xtest_pca = pca.transform(Xtest)"
   ]
  },
  {
   "cell_type": "code",
   "execution_count": 5,
   "metadata": {},
   "outputs": [
    {
     "name": "stderr",
     "output_type": "stream",
     "text": [
      "100%|████████████████████████████████████████████████████████████████████████████████| 5/5 [5:04:14<00:00, 3650.84s/it]\n"
     ]
    },
    {
     "name": "stdout",
     "output_type": "stream",
     "text": [
      "    Accuracy Kernel       C Degree  Gamma\n",
      "0   0.677093    rbf     0.1    N/A  scale\n",
      "1   0.668701    rbf     0.1    N/A   auto\n",
      "2   0.526035    rbf     0.1    N/A    0.1\n",
      "3   0.496471    rbf     0.1    N/A    0.2\n",
      "4   0.496471    rbf     0.1    N/A    0.3\n",
      "5   0.496471    rbf     0.1    N/A    0.4\n",
      "6   0.496471    rbf     0.1    N/A    0.5\n",
      "7   0.496471    rbf     0.1    N/A    0.6\n",
      "8   0.496471    rbf     0.1    N/A    0.7\n",
      "9   0.496471    rbf     0.1    N/A    0.8\n",
      "10  0.496471    rbf     0.1    N/A    0.9\n",
      "11  0.687965    rbf     1.0    N/A  scale\n",
      "12  0.709708    rbf     1.0    N/A   auto\n",
      "13  0.574290    rbf     1.0    N/A    0.1\n",
      "14  0.571619    rbf     1.0    N/A    0.2\n",
      "15  0.571619    rbf     1.0    N/A    0.3\n",
      "16  0.571619    rbf     1.0    N/A    0.4\n",
      "17  0.571619    rbf     1.0    N/A    0.5\n",
      "18  0.571619    rbf     1.0    N/A    0.6\n",
      "19  0.571619    rbf     1.0    N/A    0.7\n",
      "20  0.571619    rbf     1.0    N/A    0.8\n",
      "21  0.571619    rbf     1.0    N/A    0.9\n",
      "22  0.703223    rbf    10.0    N/A  scale\n",
      "23  0.706084    rbf    10.0    N/A   auto\n",
      "24  0.574671    rbf    10.0    N/A    0.1\n",
      "25  0.571619    rbf    10.0    N/A    0.2\n",
      "26  0.571810    rbf    10.0    N/A    0.3\n",
      "27  0.571810    rbf    10.0    N/A    0.4\n",
      "28  0.571810    rbf    10.0    N/A    0.5\n",
      "29  0.571810    rbf    10.0    N/A    0.6\n",
      "30  0.571810    rbf    10.0    N/A    0.7\n",
      "31  0.571810    rbf    10.0    N/A    0.8\n",
      "32  0.571810    rbf    10.0    N/A    0.9\n",
      "33  0.679763    rbf   100.0    N/A  scale\n",
      "34  0.700172    rbf   100.0    N/A   auto\n",
      "35  0.574671    rbf   100.0    N/A    0.1\n",
      "36  0.571810    rbf   100.0    N/A    0.2\n",
      "37  0.571810    rbf   100.0    N/A    0.3\n",
      "38  0.571810    rbf   100.0    N/A    0.4\n",
      "39  0.571810    rbf   100.0    N/A    0.5\n",
      "40  0.571810    rbf   100.0    N/A    0.6\n",
      "41  0.571810    rbf   100.0    N/A    0.7\n",
      "42  0.571810    rbf   100.0    N/A    0.8\n",
      "43  0.571810    rbf   100.0    N/A    0.9\n",
      "44  0.665459    rbf  1000.0    N/A  scale\n",
      "45  0.693115    rbf  1000.0    N/A   auto\n",
      "46  0.574671    rbf  1000.0    N/A    0.1\n",
      "47  0.571810    rbf  1000.0    N/A    0.2\n",
      "48  0.571810    rbf  1000.0    N/A    0.3\n",
      "49  0.571810    rbf  1000.0    N/A    0.4\n",
      "50  0.571810    rbf  1000.0    N/A    0.5\n",
      "51  0.571810    rbf  1000.0    N/A    0.6\n",
      "52  0.571810    rbf  1000.0    N/A    0.7\n",
      "53  0.571810    rbf  1000.0    N/A    0.8\n",
      "54  0.571810    rbf  1000.0    N/A    0.9\n"
     ]
    }
   ],
   "source": [
    "# Hyperparameter searching\n",
    "from sklearn.model_selection import train_test_split, GridSearchCV\n",
    "\n",
    "# Split the dataset into training and vslidation sets\n",
    "X_train, X_val, y_train, y_val = train_test_split(X_pca, y, test_size=0.2, random_state=42)\n",
    "\n",
    "# Define the SVM model\n",
    "# classifier = svm.SVC()\n",
    "\n",
    "C_list = [0.1, 1, 10, 100, 1000] \n",
    "# degree_list = [2, 3, 4] \n",
    "gamma_list = ['scale', 'auto', 0.1, 0.2, 0.3, 0.4, 0.5, 0.6, 0.7, 0.8, 0.9] \n",
    "\n",
    "results = []\n",
    "\n",
    "# kernel = 'poly'\n",
    "# gamma_na = 'N/A'\n",
    "# for C in tqdm.tqdm(C_list):\n",
    "#     for degree in degree_list:\n",
    "#         svm_current_poly = svm.SVC(\n",
    "#             kernel=kernel, \n",
    "#             C=C, \n",
    "#             degree=degree\n",
    "#         )\n",
    "#         svm_current_poly.fit(X_train, y_train)\n",
    "#         y_val_hat_poly = svm_current_poly.predict(X_val)\n",
    "#         accuracy_poly = accuracy_score(y_val, y_val_hat_poly)\n",
    "        \n",
    "#         results.append([accuracy, kernel, C, degree, gamma_na])\n",
    "        \n",
    "kernel = 'rbf'\n",
    "degree_na = 'N/A'\n",
    "for C in tqdm.tqdm(C_list):\n",
    "    for gamma in gamma_list:\n",
    "        svm_current_rbf = svm.SVC(\n",
    "            kernel=kernel, \n",
    "            C=C, \n",
    "            gamma=gamma\n",
    "        )\n",
    "        svm_current_rbf.fit(X_train, y_train)\n",
    "        y_val_hat_rbf = svm_current_rbf.predict(X_val)\n",
    "        accuracy_rbf = accuracy_score(y_val, y_val_hat_rbf)\n",
    "        results.append([accuracy_rbf, kernel, C, degree_na, gamma])\n",
    "\n",
    "results = pd.DataFrame(results)\n",
    "results.columns = ['Accuracy', 'Kernel', 'C', 'Degree', 'Gamma']\n",
    "print(results)"
   ]
  },
  {
   "cell_type": "code",
   "execution_count": 6,
   "metadata": {},
   "outputs": [
    {
     "data": {
      "text/html": [
       "<div>\n",
       "<style scoped>\n",
       "    .dataframe tbody tr th:only-of-type {\n",
       "        vertical-align: middle;\n",
       "    }\n",
       "\n",
       "    .dataframe tbody tr th {\n",
       "        vertical-align: top;\n",
       "    }\n",
       "\n",
       "    .dataframe thead th {\n",
       "        text-align: right;\n",
       "    }\n",
       "</style>\n",
       "<table border=\"1\" class=\"dataframe\">\n",
       "  <thead>\n",
       "    <tr style=\"text-align: right;\">\n",
       "      <th></th>\n",
       "      <th>Accuracy</th>\n",
       "      <th>Kernel</th>\n",
       "      <th>C</th>\n",
       "      <th>Degree</th>\n",
       "      <th>Gamma</th>\n",
       "    </tr>\n",
       "  </thead>\n",
       "  <tbody>\n",
       "    <tr>\n",
       "      <th>12</th>\n",
       "      <td>0.709708</td>\n",
       "      <td>rbf</td>\n",
       "      <td>1.0</td>\n",
       "      <td>N/A</td>\n",
       "      <td>auto</td>\n",
       "    </tr>\n",
       "  </tbody>\n",
       "</table>\n",
       "</div>"
      ],
      "text/plain": [
       "    Accuracy Kernel    C Degree Gamma\n",
       "12  0.709708    rbf  1.0    N/A  auto"
      ]
     },
     "execution_count": 6,
     "metadata": {},
     "output_type": "execute_result"
    }
   ],
   "source": [
    "# Extract best result\n",
    "results[results['Accuracy'] == results['Accuracy'].max()]"
   ]
  },
  {
   "cell_type": "code",
   "execution_count": 8,
   "metadata": {},
   "outputs": [],
   "source": [
    "# Initialize the final model\n",
    "svm_optimal = svm.SVC(kernel='rbf', C = 1, gamma = 'auto') # update the params based on best params\n",
    "svm_optimal.fit(X, y)\n",
    "y_test_hat = svm_optimal.predict(Xtest)"
   ]
  },
  {
   "cell_type": "code",
   "execution_count": 9,
   "metadata": {},
   "outputs": [],
   "source": [
    "ytest_hat = pd.DataFrame({\n",
    "    'Id': list(range(len(y_test_hat))),\n",
    "    'Predicted': y_test_hat.reshape(-1,),\n",
    "})\n",
    "ytest_hat.to_csv('ytest_hat.csv', index=False) #/mnt/c/Users/cmd/Dropbox/Teaching/amlFall2023/assignments/ytest_hat.csv"
   ]
  },
  {
   "cell_type": "code",
   "execution_count": null,
   "metadata": {},
   "outputs": [],
   "source": []
  }
 ],
 "metadata": {
  "kernelspec": {
   "display_name": "Python 3 (ipykernel)",
   "language": "python",
   "name": "python3"
  },
  "language_info": {
   "codemirror_mode": {
    "name": "ipython",
    "version": 3
   },
   "file_extension": ".py",
   "mimetype": "text/x-python",
   "name": "python",
   "nbconvert_exporter": "python",
   "pygments_lexer": "ipython3",
   "version": "3.10.13"
  }
 },
 "nbformat": 4,
 "nbformat_minor": 4
}
