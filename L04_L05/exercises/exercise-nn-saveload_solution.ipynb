{
 "cells": [
  {
   "cell_type": "markdown",
   "metadata": {},
   "source": [
    "# Exercise - saving, loading, and TensorBoard\n",
    "\n",
    "1. Use the *fashion_mnist* dataset (classification of images of cloths). Train a neural network to classify the images, **training only for 2 epochs**. Evaluate its performance. Now save it. Reload it (with a new name) and perform evaluation again (to check it is the same). Train the reloaded model for 2 epochs. Evaluate. See how its performance is better now - this is since it has trained for 4 total epochs now.\n",
    "1. Train a model aiming at as good performance as possible, using a combination of what we have covered so far in class, optimization of hyperparameters (remember to use a validation set), and any other ideas you have. Track the performance of your final model using TensorBoard.\n",
    "\n",
    "**See slides for more details!**"
   ]
  },
  {
   "cell_type": "markdown",
   "metadata": {},
   "source": [
    "# Exercise 1\n",
    "\n",
    "Use the *fashion_mnist* dataset (classification of images of cloths). Train a neural network to classify the images, **training only for 2 epochs**. Evaluate its performance. Now save it. Reload it (with a new name) and perform evaluation again (to check it is the same). Train the reloaded model for 2 epochs. Evaluate. See how its performance is better now - this is since it has trained for 4 total epochs now."
   ]
  },
  {
   "cell_type": "code",
   "execution_count": 1,
   "metadata": {},
   "outputs": [
    {
     "name": "stdout",
     "output_type": "stream",
     "text": [
      "(60000, 28, 28) (60000,) (10000, 28, 28) (10000,)\n"
     ]
    }
   ],
   "source": [
    "import tensorflow as tf\n",
    "from matplotlib import pyplot as plt\n",
    "\n",
    "(x_train, y_train), (x_test, y_test) = tf.keras.datasets.fashion_mnist.load_data()\n",
    "\n",
    "# A simply way to scale data. Remember pixels are in [0, 255] so this ensures [0, 1]\n",
    "x_train = x_train / 255\n",
    "x_test = x_test / 255\n",
    "\n",
    "print(x_train.shape, y_train.shape, x_test.shape, y_test.shape)"
   ]
  },
  {
   "cell_type": "code",
   "execution_count": 2,
   "metadata": {},
   "outputs": [
    {
     "data": {
      "text/plain": [
       "<matplotlib.image.AxesImage at 0x2479ff93c10>"
      ]
     },
     "execution_count": 2,
     "metadata": {},
     "output_type": "execute_result"
    },
    {
     "data": {
      "image/png": "[encoded data removed]",
      "text/plain": [
       "<Figure size 1600x320 with 4 Axes>"
      ]
     },
     "metadata": {},
     "output_type": "display_data"
    }
   ],
   "source": [
    "# Check the images\n",
    "fig = plt.figure(figsize=plt.figaspect(0.2))\n",
    "\n",
    "ax = fig.add_subplot(1, 4, 1)\n",
    "plt.imshow(x_train[0], cmap='gray')\n",
    "\n",
    "ax = fig.add_subplot(1, 4, 2)\n",
    "plt.imshow(x_train[1], cmap='gray')\n",
    "\n",
    "ax = fig.add_subplot(1, 4, 3)\n",
    "plt.imshow(x_train[2], cmap='gray')\n",
    "\n",
    "ax = fig.add_subplot(1, 4, 4)\n",
    "plt.imshow(x_train[3], cmap='gray')"
   ]
  },
  {
   "cell_type": "markdown",
   "metadata": {},
   "source": [
    "Now build a model. Recall the need for a \"rehape\" layer as the first layer!\n",
    "\n",
    "**Note**: Do feel free to experiment with the number of layers, nodes per layer, and optimizer."
   ]
  },
  {
   "cell_type": "code",
   "execution_count": 3,
   "metadata": {},
   "outputs": [],
   "source": [
    "model = tf.keras.models.Sequential([\n",
    "    tf.keras.layers.Flatten(input_shape=(28, 28)),\n",
    "    tf.keras.layers.Dense(256, activation='relu'),\n",
    "    tf.keras.layers.Dense(10, activation='softmax'),\n",
    "])\n",
    "\n",
    "model.compile(\n",
    "    loss='sparse_categorical_crossentropy',\n",
    "    optimizer='adam',\n",
    "    metrics=['accuracy'],\n",
    ")"
   ]
  },
  {
   "cell_type": "code",
   "execution_count": 4,
   "metadata": {},
   "outputs": [
    {
     "name": "stdout",
     "output_type": "stream",
     "text": [
      "Epoch 1/2\n",
      "1875/1875 [==============================] - 3s 1ms/step - loss: 0.4873 - accuracy: 0.8271 - val_loss: 0.4239 - val_accuracy: 0.8504\n",
      "Epoch 2/2\n",
      "1875/1875 [==============================] - 3s 1ms/step - loss: 0.3628 - accuracy: 0.8690 - val_loss: 0.3729 - val_accuracy: 0.8661\n"
     ]
    },
    {
     "data": {
      "text/plain": [
       "<keras.callbacks.History at 0x247a3121c00>"
      ]
     },
     "execution_count": 4,
     "metadata": {},
     "output_type": "execute_result"
    }
   ],
   "source": [
    "model.fit(x_train, y_train, validation_data=(x_test, y_test), epochs=2)"
   ]
  },
  {
   "cell_type": "code",
   "execution_count": 5,
   "metadata": {},
   "outputs": [
    {
     "name": "stdout",
     "output_type": "stream",
     "text": [
      "313/313 [==============================] - 0s 850us/step - loss: 0.3729 - accuracy: 0.8661\n"
     ]
    },
    {
     "data": {
      "text/plain": [
       "[0.37289300560951233, 0.866100013256073]"
      ]
     },
     "execution_count": 5,
     "metadata": {},
     "output_type": "execute_result"
    }
   ],
   "source": [
    "model.evaluate(x_test, y_test)"
   ]
  },
  {
   "cell_type": "code",
   "execution_count": 6,
   "metadata": {},
   "outputs": [
    {
     "name": "stdout",
     "output_type": "stream",
     "text": [
      "INFO:tensorflow:Assets written to: exercise-nn-saveload\\assets\n"
     ]
    }
   ],
   "source": [
    "# Save the model\n",
    "model.save('exercise-nn-saveload')"
   ]
  },
  {
   "cell_type": "code",
   "execution_count": 7,
   "metadata": {
    "scrolled": true
   },
   "outputs": [
    {
     "name": "stdout",
     "output_type": "stream",
     "text": [
      "Model: \"sequential\"\n",
      "_________________________________________________________________\n",
      " Layer (type)                Output Shape              Param #   \n",
      "=================================================================\n",
      " flatten (Flatten)           (None, 784)               0         \n",
      "                                                                 \n",
      " dense (Dense)               (None, 256)               200960    \n",
      "                                                                 \n",
      " dense_1 (Dense)             (None, 10)                2570      \n",
      "                                                                 \n",
      "=================================================================\n",
      "Total params: 203,530\n",
      "Trainable params: 203,530\n",
      "Non-trainable params: 0\n",
      "_________________________________________________________________\n"
     ]
    }
   ],
   "source": [
    "model_reloaded = tf.keras.models.load_model('exercise-nn-saveload')\n",
    "model_reloaded.summary()"
   ]
  },
  {
   "cell_type": "code",
   "execution_count": 8,
   "metadata": {},
   "outputs": [
    {
     "name": "stdout",
     "output_type": "stream",
     "text": [
      "313/313 [==============================] - 0s 908us/step - loss: 0.3729 - accuracy: 0.8661\n"
     ]
    },
    {
     "data": {
      "text/plain": [
       "[0.37289300560951233, 0.866100013256073]"
      ]
     },
     "execution_count": 8,
     "metadata": {},
     "output_type": "execute_result"
    }
   ],
   "source": [
    "model_reloaded.evaluate(x_test, y_test)"
   ]
  },
  {
   "cell_type": "code",
   "execution_count": 9,
   "metadata": {
    "scrolled": true
   },
   "outputs": [
    {
     "name": "stdout",
     "output_type": "stream",
     "text": [
      "Epoch 1/2\n",
      "1875/1875 [==============================] - 3s 1ms/step - loss: 0.3274 - accuracy: 0.8802 - val_loss: 0.3666 - val_accuracy: 0.8689\n",
      "Epoch 2/2\n",
      "1875/1875 [==============================] - 2s 1ms/step - loss: 0.3018 - accuracy: 0.8886 - val_loss: 0.3865 - val_accuracy: 0.8672\n"
     ]
    },
    {
     "data": {
      "text/plain": [
       "<keras.callbacks.History at 0x247a599fdf0>"
      ]
     },
     "execution_count": 9,
     "metadata": {},
     "output_type": "execute_result"
    }
   ],
   "source": [
    "model_reloaded.fit(x_train, y_train, validation_data=(x_test, y_test), epochs=2)"
   ]
  },
  {
   "cell_type": "code",
   "execution_count": 10,
   "metadata": {},
   "outputs": [
    {
     "name": "stdout",
     "output_type": "stream",
     "text": [
      "313/313 [==============================] - 0s 941us/step - loss: 0.3865 - accuracy: 0.8672\n"
     ]
    },
    {
     "data": {
      "text/plain": [
       "[0.38647034764289856, 0.8672000169754028]"
      ]
     },
     "execution_count": 10,
     "metadata": {},
     "output_type": "execute_result"
    }
   ],
   "source": [
    "model_reloaded.evaluate(x_test, y_test)"
   ]
  },
  {
   "cell_type": "markdown",
   "metadata": {},
   "source": [
    "# Exercise 2\n",
    "\n",
    "Train a model aiming at as good performance as possible, using a combination of what we have covered so far in class, optimization of hyperparameters (remember to use a validation set), and any other ideas you have. Track the performance of your final model using TensorBoard or **wandb**.\n",
    "\n",
    "**Note**: Remember to create the folder where you want to store your logs."
   ]
  },
  {
   "cell_type": "markdown",
   "metadata": {},
   "source": [
    "Below is some code you can use to test it out, provided you have created the directory with the given name (i.e. logs_exercise_nn_saveload).\n",
    "\n",
    "However, be sure to try to optimize your model!"
   ]
  },
  {
   "cell_type": "code",
   "execution_count": 11,
   "metadata": {},
   "outputs": [],
   "source": [
    "import os\n",
    "import wandb\n",
    "\n",
    "from wandb.keras import WandbCallback"
   ]
  },
  {
   "cell_type": "code",
   "execution_count": 12,
   "metadata": {},
   "outputs": [
    {
     "name": "stderr",
     "output_type": "stream",
     "text": [
      "\u001b[34m\u001b[1mwandb\u001b[0m: Currently logged in as: \u001b[33mchristianmdahl\u001b[0m. Use \u001b[1m`wandb login --relogin`\u001b[0m to force relogin\n"
     ]
    },
    {
     "data": {
      "text/html": [
       "Tracking run with wandb version 0.15.12"
      ],
      "text/plain": [
       "<IPython.core.display.HTML object>"
      ]
     },
     "metadata": {},
     "output_type": "display_data"
    },
    {
     "data": {
      "text/html": [
       "Run data is saved locally in <code>c:\\Users\\cmd\\Dropbox\\Teaching\\amlFall2023\\lectures\\lecture-intro-nn\\wandb\\run-20231012_150728-yr8f3bu6</code>"
      ],
      "text/plain": [
       "<IPython.core.display.HTML object>"
      ]
     },
     "metadata": {},
     "output_type": "display_data"
    },
    {
     "data": {
      "text/html": [
       "Syncing run <strong><a href='https://wandb.ai/christianmdahl/amlfall23/runs/yr8f3bu6' target=\"_blank\">fashion-mnist-small_exercise-nn-saveload</a></strong> to <a href='https://wandb.ai/christianmdahl/amlfall23' target=\"_blank\">Weights & Biases</a> (<a href='https://wandb.me/run' target=\"_blank\">docs</a>)<br/>"
      ],
      "text/plain": [
       "<IPython.core.display.HTML object>"
      ]
     },
     "metadata": {},
     "output_type": "display_data"
    },
    {
     "data": {
      "text/html": [
       " View project at <a href='https://wandb.ai/christianmdahl/amlfall23' target=\"_blank\">https://wandb.ai/christianmdahl/amlfall23</a>"
      ],
      "text/plain": [
       "<IPython.core.display.HTML object>"
      ]
     },
     "metadata": {},
     "output_type": "display_data"
    },
    {
     "data": {
      "text/html": [
       " View run at <a href='https://wandb.ai/christianmdahl/amlfall23/runs/yr8f3bu6' target=\"_blank\">https://wandb.ai/christianmdahl/amlfall23/runs/yr8f3bu6</a>"
      ],
      "text/plain": [
       "<IPython.core.display.HTML object>"
      ]
     },
     "metadata": {},
     "output_type": "display_data"
    },
    {
     "name": "stderr",
     "output_type": "stream",
     "text": [
      "\u001b[34m\u001b[1mwandb\u001b[0m: \u001b[33mWARNING\u001b[0m The save_model argument by default saves the model in the HDF5 format that cannot save custom objects like subclassed models and custom layers. This behavior will be deprecated in a future release in favor of the SavedModel format. Meanwhile, the HDF5 model is saved as W&B files and the SavedModel as W&B Artifacts.\n"
     ]
    }
   ],
   "source": [
    "os.environ[\"WANDB_NAME\"]= 'fashion-mnist-small_exercise-nn-saveload'\n",
    "os.environ[\"WANDB_NOTEBOOK_NAME\"]='exercise-nn-saveload_solution.ipynb'\n",
    "run = wandb.init(project=\"amlfall23\",entity='christianmdahl',job_type='train')\n",
    "wandb_callback = WandbCallback(monitor='val_loss',\n",
    "                               verbose=True,\n",
    "                               save_model=True, ## if you use dropbox for saving pause syncing files..otherwise permission errors\n",
    "                               log_weights=False,\n",
    "                               log_evaluation=True,\n",
    "                               validation_data=(x_test, y_test),\n",
    "                               input_type='image',\n",
    "                               output_type='label'\n",
    "                               )\n",
    "callbacks = [wandb_callback]"
   ]
  },
  {
   "cell_type": "code",
   "execution_count": 13,
   "metadata": {},
   "outputs": [],
   "source": [
    "model_sigmoid = tf.keras.models.Sequential([\n",
    "    tf.keras.layers.Flatten(input_shape=(28, 28)),\n",
    "    tf.keras.layers.Dense(128, activation='sigmoid'),\n",
    "    tf.keras.layers.Dense(128, activation='sigmoid'),\n",
    "    tf.keras.layers.Dense(128, activation='sigmoid'),\n",
    "    tf.keras.layers.Dense(128, activation='sigmoid'),\n",
    "    tf.keras.layers.Dense(10, activation='softmax'),\n",
    "])\n",
    "model_sigmoid.compile(\n",
    "    loss='sparse_categorical_crossentropy',\n",
    "    optimizer='sgd',\n",
    "    metrics=['accuracy'],\n",
    ")\n",
    "\n",
    "model_relu = tf.keras.models.Sequential([\n",
    "    tf.keras.layers.Flatten(input_shape=(28, 28)),\n",
    "    tf.keras.layers.Dense(128, activation='relu'),\n",
    "    tf.keras.layers.Dense(128, activation='relu'),\n",
    "    tf.keras.layers.Dense(128, activation='relu'),\n",
    "    tf.keras.layers.Dense(128, activation='relu'),\n",
    "    tf.keras.layers.Dense(10, activation='softmax'),\n",
    "])\n",
    "model_relu.compile(\n",
    "    loss='sparse_categorical_crossentropy',\n",
    "    optimizer='sgd',\n",
    "    metrics=['accuracy'],\n",
    ")"
   ]
  },
  {
   "cell_type": "code",
   "execution_count": 15,
   "metadata": {},
   "outputs": [
    {
     "name": "stdout",
     "output_type": "stream",
     "text": [
      "Epoch 1/10\n",
      "2/2 [==============================] - 0s 1ms/step0s - loss: 2.3027 - accuracy: 0.10\n",
      "Epoch 00000: val_loss improved from inf to 2.30094, saving model to c:\\Users\\cmd\\Dropbox\\Teaching\\amlFall2023\\lectures\\lecture-intro-nn\\wandb\\run-20231012_150728-yr8f3bu6\\files\\model-best.h5\n",
      "INFO:tensorflow:Assets written to: c:\\Users\\cmd\\Dropbox\\Teaching\\amlFall2023\\lectures\\lecture-intro-nn\\wandb\\run-20231012_150728-yr8f3bu6\\files\\model-best\\assets\n"
     ]
    },
    {
     "name": "stderr",
     "output_type": "stream",
     "text": [
      "\u001b[34m\u001b[1mwandb\u001b[0m: Adding directory to artifact (c:\\Users\\cmd\\Dropbox\\Teaching\\amlFall2023\\lectures\\lecture-intro-nn\\wandb\\run-20231012_150728-yr8f3bu6\\files\\model-best)... Done. 0.0s\n"
     ]
    },
    {
     "name": "stdout",
     "output_type": "stream",
     "text": [
      "1875/1875 [==============================] - 3s 2ms/step - loss: 2.3026 - accuracy: 0.1050 - val_loss: 2.3009 - val_accuracy: 0.1000\n",
      "Epoch 2/10\n",
      "2/2 [==============================] - 0s 999us/step - loss: 2.2994 - accuracy: 0.11\n",
      "Epoch 00001: val_loss improved from 2.30094 to 2.29812, saving model to c:\\Users\\cmd\\Dropbox\\Teaching\\amlFall2023\\lectures\\lecture-intro-nn\\wandb\\run-20231012_150728-yr8f3bu6\\files\\model-best.h5\n",
      "INFO:tensorflow:Assets written to: c:\\Users\\cmd\\Dropbox\\Teaching\\amlFall2023\\lectures\\lecture-intro-nn\\wandb\\run-20231012_150728-yr8f3bu6\\files\\model-best\\assets\n"
     ]
    },
    {
     "name": "stderr",
     "output_type": "stream",
     "text": [
      "\u001b[34m\u001b[1mwandb\u001b[0m: Adding directory to artifact (c:\\Users\\cmd\\Dropbox\\Teaching\\amlFall2023\\lectures\\lecture-intro-nn\\wandb\\run-20231012_150728-yr8f3bu6\\files\\model-best)... Done. 0.0s\n"
     ]
    },
    {
     "name": "stdout",
     "output_type": "stream",
     "text": [
      "1875/1875 [==============================] - 3s 2ms/step - loss: 2.2993 - accuracy: 0.1118 - val_loss: 2.2981 - val_accuracy: 0.1055\n",
      "Epoch 3/10\n",
      "2/2 [==============================] - 0s 2ms/step0s - loss: 2.2937 - accuracy: 0.12\n",
      "Epoch 00002: val_loss improved from 2.29812 to 2.28781, saving model to c:\\Users\\cmd\\Dropbox\\Teaching\\amlFall2023\\lectures\\lecture-intro-nn\\wandb\\run-20231012_150728-yr8f3bu6\\files\\model-best.h5\n",
      "INFO:tensorflow:Assets written to: c:\\Users\\cmd\\Dropbox\\Teaching\\amlFall2023\\lectures\\lecture-intro-nn\\wandb\\run-20231012_150728-yr8f3bu6\\files\\model-best\\assets\n"
     ]
    },
    {
     "name": "stderr",
     "output_type": "stream",
     "text": [
      "\u001b[34m\u001b[1mwandb\u001b[0m: Adding directory to artifact (c:\\Users\\cmd\\Dropbox\\Teaching\\amlFall2023\\lectures\\lecture-intro-nn\\wandb\\run-20231012_150728-yr8f3bu6\\files\\model-best)... Done. 0.0s\n"
     ]
    },
    {
     "name": "stdout",
     "output_type": "stream",
     "text": [
      "1875/1875 [==============================] - 3s 2ms/step - loss: 2.2937 - accuracy: 0.1287 - val_loss: 2.2878 - val_accuracy: 0.1857\n",
      "Epoch 4/10\n",
      "2/2 [==============================] - 0s 2ms/step0s - loss: 2.2812 - accuracy: 0.15\n",
      "Epoch 00003: val_loss improved from 2.28781 to 2.26877, saving model to c:\\Users\\cmd\\Dropbox\\Teaching\\amlFall2023\\lectures\\lecture-intro-nn\\wandb\\run-20231012_150728-yr8f3bu6\\files\\model-best.h5\n",
      "INFO:tensorflow:Assets written to: c:\\Users\\cmd\\Dropbox\\Teaching\\amlFall2023\\lectures\\lecture-intro-nn\\wandb\\run-20231012_150728-yr8f3bu6\\files\\model-best\\assets\n"
     ]
    },
    {
     "name": "stderr",
     "output_type": "stream",
     "text": [
      "\u001b[34m\u001b[1mwandb\u001b[0m: Adding directory to artifact (c:\\Users\\cmd\\Dropbox\\Teaching\\amlFall2023\\lectures\\lecture-intro-nn\\wandb\\run-20231012_150728-yr8f3bu6\\files\\model-best)... Done. 0.0s\n"
     ]
    },
    {
     "name": "stdout",
     "output_type": "stream",
     "text": [
      "1875/1875 [==============================] - 3s 2ms/step - loss: 2.2810 - accuracy: 0.1534 - val_loss: 2.2688 - val_accuracy: 0.1000\n",
      "Epoch 5/10\n",
      "2/2 [==============================] - 0s 2ms/step0s - loss: 2.2258 - accuracy: 0.22\n",
      "Epoch 00004: val_loss improved from 2.26877 to 2.13673, saving model to c:\\Users\\cmd\\Dropbox\\Teaching\\amlFall2023\\lectures\\lecture-intro-nn\\wandb\\run-20231012_150728-yr8f3bu6\\files\\model-best.h5\n",
      "INFO:tensorflow:Assets written to: c:\\Users\\cmd\\Dropbox\\Teaching\\amlFall2023\\lectures\\lecture-intro-nn\\wandb\\run-20231012_150728-yr8f3bu6\\files\\model-best\\assets\n"
     ]
    },
    {
     "name": "stderr",
     "output_type": "stream",
     "text": [
      "\u001b[34m\u001b[1mwandb\u001b[0m: Adding directory to artifact (c:\\Users\\cmd\\Dropbox\\Teaching\\amlFall2023\\lectures\\lecture-intro-nn\\wandb\\run-20231012_150728-yr8f3bu6\\files\\model-best)... Done. 0.0s\n"
     ]
    },
    {
     "name": "stdout",
     "output_type": "stream",
     "text": [
      "1875/1875 [==============================] - 3s 2ms/step - loss: 2.2254 - accuracy: 0.2202 - val_loss: 2.1367 - val_accuracy: 0.2008\n",
      "Epoch 6/10\n",
      "2/2 [==============================] - 0s 2ms/step0s - loss: 1.9075 - accuracy: 0.27\n",
      "Epoch 00005: val_loss improved from 2.13673 to 1.70909, saving model to c:\\Users\\cmd\\Dropbox\\Teaching\\amlFall2023\\lectures\\lecture-intro-nn\\wandb\\run-20231012_150728-yr8f3bu6\\files\\model-best.h5\n",
      "INFO:tensorflow:Assets written to: c:\\Users\\cmd\\Dropbox\\Teaching\\amlFall2023\\lectures\\lecture-intro-nn\\wandb\\run-20231012_150728-yr8f3bu6\\files\\model-best\\assets\n"
     ]
    },
    {
     "name": "stderr",
     "output_type": "stream",
     "text": [
      "\u001b[34m\u001b[1mwandb\u001b[0m: Adding directory to artifact (c:\\Users\\cmd\\Dropbox\\Teaching\\amlFall2023\\lectures\\lecture-intro-nn\\wandb\\run-20231012_150728-yr8f3bu6\\files\\model-best)... Done. 0.0s\n"
     ]
    },
    {
     "name": "stdout",
     "output_type": "stream",
     "text": [
      "1875/1875 [==============================] - 3s 2ms/step - loss: 1.9030 - accuracy: 0.2778 - val_loss: 1.7091 - val_accuracy: 0.3274\n",
      "Epoch 7/10\n",
      "2/2 [==============================] - 0s 2ms/step0s - loss: 1.6193 - accuracy: 0.35\n",
      "Epoch 00006: val_loss improved from 1.70909 to 1.52969, saving model to c:\\Users\\cmd\\Dropbox\\Teaching\\amlFall2023\\lectures\\lecture-intro-nn\\wandb\\run-20231012_150728-yr8f3bu6\\files\\model-best.h5\n",
      "INFO:tensorflow:Assets written to: c:\\Users\\cmd\\Dropbox\\Teaching\\amlFall2023\\lectures\\lecture-intro-nn\\wandb\\run-20231012_150728-yr8f3bu6\\files\\model-best\\assets\n"
     ]
    },
    {
     "name": "stderr",
     "output_type": "stream",
     "text": [
      "\u001b[34m\u001b[1mwandb\u001b[0m: Adding directory to artifact (c:\\Users\\cmd\\Dropbox\\Teaching\\amlFall2023\\lectures\\lecture-intro-nn\\wandb\\run-20231012_150728-yr8f3bu6\\files\\model-best)... Done. 0.0s\n"
     ]
    },
    {
     "name": "stdout",
     "output_type": "stream",
     "text": [
      "1875/1875 [==============================] - 3s 2ms/step - loss: 1.6183 - accuracy: 0.3574 - val_loss: 1.5297 - val_accuracy: 0.4375\n",
      "Epoch 8/10\n",
      "2/2 [==============================] - 0s 2ms/step0s - loss: 1.4401 - accuracy: 0.45\n",
      "Epoch 00007: val_loss improved from 1.52969 to 1.36269, saving model to c:\\Users\\cmd\\Dropbox\\Teaching\\amlFall2023\\lectures\\lecture-intro-nn\\wandb\\run-20231012_150728-yr8f3bu6\\files\\model-best.h5\n",
      "INFO:tensorflow:Assets written to: c:\\Users\\cmd\\Dropbox\\Teaching\\amlFall2023\\lectures\\lecture-intro-nn\\wandb\\run-20231012_150728-yr8f3bu6\\files\\model-best\\assets\n"
     ]
    },
    {
     "name": "stderr",
     "output_type": "stream",
     "text": [
      "\u001b[34m\u001b[1mwandb\u001b[0m: Adding directory to artifact (c:\\Users\\cmd\\Dropbox\\Teaching\\amlFall2023\\lectures\\lecture-intro-nn\\wandb\\run-20231012_150728-yr8f3bu6\\files\\model-best)... Done. 0.0s\n"
     ]
    },
    {
     "name": "stdout",
     "output_type": "stream",
     "text": [
      "1875/1875 [==============================] - 3s 2ms/step - loss: 1.4378 - accuracy: 0.4562 - val_loss: 1.3627 - val_accuracy: 0.4747\n",
      "Epoch 9/10\n",
      "2/2 [==============================] - 0s 2ms/step0s - loss: 1.2957 - accuracy: 0.52\n",
      "Epoch 00008: val_loss improved from 1.36269 to 1.24519, saving model to c:\\Users\\cmd\\Dropbox\\Teaching\\amlFall2023\\lectures\\lecture-intro-nn\\wandb\\run-20231012_150728-yr8f3bu6\\files\\model-best.h5\n",
      "INFO:tensorflow:Assets written to: c:\\Users\\cmd\\Dropbox\\Teaching\\amlFall2023\\lectures\\lecture-intro-nn\\wandb\\run-20231012_150728-yr8f3bu6\\files\\model-best\\assets\n"
     ]
    },
    {
     "name": "stderr",
     "output_type": "stream",
     "text": [
      "\u001b[34m\u001b[1mwandb\u001b[0m: Adding directory to artifact (c:\\Users\\cmd\\Dropbox\\Teaching\\amlFall2023\\lectures\\lecture-intro-nn\\wandb\\run-20231012_150728-yr8f3bu6\\files\\model-best)... Done. 0.0s\n"
     ]
    },
    {
     "name": "stdout",
     "output_type": "stream",
     "text": [
      "1875/1875 [==============================] - 3s 2ms/step - loss: 1.2952 - accuracy: 0.5284 - val_loss: 1.2452 - val_accuracy: 0.5502\n",
      "Epoch 10/10\n",
      "2/2 [==============================] - 0s 3ms/step0s - loss: 1.1854 - accuracy: 0.57\n",
      "Epoch 00009: val_loss improved from 1.24519 to 1.13904, saving model to c:\\Users\\cmd\\Dropbox\\Teaching\\amlFall2023\\lectures\\lecture-intro-nn\\wandb\\run-20231012_150728-yr8f3bu6\\files\\model-best.h5\n",
      "INFO:tensorflow:Assets written to: c:\\Users\\cmd\\Dropbox\\Teaching\\amlFall2023\\lectures\\lecture-intro-nn\\wandb\\run-20231012_150728-yr8f3bu6\\files\\model-best\\assets\n"
     ]
    },
    {
     "name": "stderr",
     "output_type": "stream",
     "text": [
      "\u001b[34m\u001b[1mwandb\u001b[0m: Adding directory to artifact (c:\\Users\\cmd\\Dropbox\\Teaching\\amlFall2023\\lectures\\lecture-intro-nn\\wandb\\run-20231012_150728-yr8f3bu6\\files\\model-best)... Done. 0.0s\n"
     ]
    },
    {
     "name": "stdout",
     "output_type": "stream",
     "text": [
      "1875/1875 [==============================] - 3s 2ms/step - loss: 1.1849 - accuracy: 0.5749 - val_loss: 1.1390 - val_accuracy: 0.5930\n",
      "313/313 [==============================] - 0s 949us/step\n"
     ]
    },
    {
     "data": {
      "text/html": [
       "Waiting for W&B process to finish... <strong style=\"color:green\">(success).</strong>"
      ],
      "text/plain": [
       "<IPython.core.display.HTML object>"
      ]
     },
     "metadata": {},
     "output_type": "display_data"
    },
    {
     "data": {
      "text/html": [
       "<style>\n",
       "    table.wandb td:nth-child(1) { padding: 0 10px; text-align: left ; width: auto;} td:nth-child(2) {text-align: left ; width: 100%}\n",
       "    .wandb-row { display: flex; flex-direction: row; flex-wrap: wrap; justify-content: flex-start; width: 100% }\n",
       "    .wandb-col { display: flex; flex-direction: column; flex-basis: 100%; flex: 1; padding: 10px; }\n",
       "    </style>\n",
       "<div class=\"wandb-row\"><div class=\"wandb-col\"><h3>Run history:</h3><br/><table class=\"wandb\"><tr><td>accuracy</td><td>▁▁▁▁▂▃▄▅▆▇█</td></tr><tr><td>epoch</td><td>▁▁▂▃▃▄▅▆▆▇█</td></tr><tr><td>loss</td><td>█████▇▅▄▃▂▁</td></tr><tr><td>val_accuracy</td><td>▁▁▁▂▁▂▄▆▆▇█</td></tr><tr><td>val_loss</td><td>█████▇▄▃▂▂▁</td></tr></table><br/></div><div class=\"wandb-col\"><h3>Run summary:</h3><br/><table class=\"wandb\"><tr><td>accuracy</td><td>0.57488</td></tr><tr><td>best_epoch</td><td>9</td></tr><tr><td>best_val_loss</td><td>1.13904</td></tr><tr><td>epoch</td><td>9</td></tr><tr><td>loss</td><td>1.18489</td></tr><tr><td>val_accuracy</td><td>0.593</td></tr><tr><td>val_loss</td><td>1.13904</td></tr></table><br/></div></div>"
      ],
      "text/plain": [
       "<IPython.core.display.HTML object>"
      ]
     },
     "metadata": {},
     "output_type": "display_data"
    },
    {
     "data": {
      "text/html": [
       " View run <strong style=\"color:#cdcd00\">fashion-mnist-small_exercise-nn-saveload</strong> at: <a href='https://wandb.ai/christianmdahl/amlfall23/runs/yr8f3bu6' target=\"_blank\">https://wandb.ai/christianmdahl/amlfall23/runs/yr8f3bu6</a><br/>Synced 5 W&B file(s), 398 media file(s), 45 artifact file(s) and 1 other file(s)"
      ],
      "text/plain": [
       "<IPython.core.display.HTML object>"
      ]
     },
     "metadata": {},
     "output_type": "display_data"
    },
    {
     "data": {
      "text/html": [
       "Find logs at: <code>.\\wandb\\run-20231012_150728-yr8f3bu6\\logs</code>"
      ],
      "text/plain": [
       "<IPython.core.display.HTML object>"
      ]
     },
     "metadata": {},
     "output_type": "display_data"
    }
   ],
   "source": [
    "history_sigmoid = model_sigmoid.fit(x_train, y_train,\n",
    "                                    validation_data=(x_test, y_test),\n",
    "                                    epochs=10, verbose=1,\n",
    "                                    callbacks = callbacks)\n",
    "run.finish()"
   ]
  },
  {
   "cell_type": "code",
   "execution_count": 16,
   "metadata": {},
   "outputs": [
    {
     "data": {
      "text/html": [
       "Tracking run with wandb version 0.15.12"
      ],
      "text/plain": [
       "<IPython.core.display.HTML object>"
      ]
     },
     "metadata": {},
     "output_type": "display_data"
    },
    {
     "data": {
      "text/html": [
       "Run data is saved locally in <code>c:\\Users\\cmd\\Dropbox\\Teaching\\amlFall2023\\lectures\\lecture-intro-nn\\wandb\\run-20231012_151506-h5iz1w32</code>"
      ],
      "text/plain": [
       "<IPython.core.display.HTML object>"
      ]
     },
     "metadata": {},
     "output_type": "display_data"
    },
    {
     "data": {
      "text/html": [
       "Syncing run <strong><a href='https://wandb.ai/christianmdahl/amlfall23/runs/h5iz1w32' target=\"_blank\">fashion-mnist-small_exercise-nn-saveload</a></strong> to <a href='https://wandb.ai/christianmdahl/amlfall23' target=\"_blank\">Weights & Biases</a> (<a href='https://wandb.me/run' target=\"_blank\">docs</a>)<br/>"
      ],
      "text/plain": [
       "<IPython.core.display.HTML object>"
      ]
     },
     "metadata": {},
     "output_type": "display_data"
    },
    {
     "data": {
      "text/html": [
       " View project at <a href='https://wandb.ai/christianmdahl/amlfall23' target=\"_blank\">https://wandb.ai/christianmdahl/amlfall23</a>"
      ],
      "text/plain": [
       "<IPython.core.display.HTML object>"
      ]
     },
     "metadata": {},
     "output_type": "display_data"
    },
    {
     "data": {
      "text/html": [
       " View run at <a href='https://wandb.ai/christianmdahl/amlfall23/runs/h5iz1w32' target=\"_blank\">https://wandb.ai/christianmdahl/amlfall23/runs/h5iz1w32</a>"
      ],
      "text/plain": [
       "<IPython.core.display.HTML object>"
      ]
     },
     "metadata": {},
     "output_type": "display_data"
    },
    {
     "name": "stdout",
     "output_type": "stream",
     "text": [
      "Epoch 1/10\n",
      "2/2 [==============================] - 0s 962us/step - loss: 0.7976 - accuracy: 0.72\n",
      "Epoch 00000: val_loss improved from 1.13904 to 0.56003, saving model to c:\\Users\\cmd\\Dropbox\\Teaching\\amlFall2023\\lectures\\lecture-intro-nn\\wandb\\run-20231012_150728-yr8f3bu6\\files\\model-best.h5\n",
      "INFO:tensorflow:Assets written to: c:\\Users\\cmd\\Dropbox\\Teaching\\amlFall2023\\lectures\\lecture-intro-nn\\wandb\\run-20231012_150728-yr8f3bu6\\files\\model-best\\assets\n"
     ]
    },
    {
     "name": "stderr",
     "output_type": "stream",
     "text": [
      "\u001b[34m\u001b[1mwandb\u001b[0m: Adding directory to artifact (c:\\Users\\cmd\\Dropbox\\Teaching\\amlFall2023\\lectures\\lecture-intro-nn\\wandb\\run-20231012_150728-yr8f3bu6\\files\\model-best)... Done. 0.0s\n"
     ]
    },
    {
     "name": "stdout",
     "output_type": "stream",
     "text": [
      "1875/1875 [==============================] - 4s 2ms/step - loss: 0.7940 - accuracy: 0.7283 - val_loss: 0.5600 - val_accuracy: 0.7942\n",
      "Epoch 2/10\n",
      "2/2 [==============================] - 0s 2ms/step0s - loss: 0.4853 - accuracy: 0.82\n",
      "Epoch 00001: val_loss improved from 0.56003 to 0.46648, saving model to c:\\Users\\cmd\\Dropbox\\Teaching\\amlFall2023\\lectures\\lecture-intro-nn\\wandb\\run-20231012_150728-yr8f3bu6\\files\\model-best.h5\n",
      "INFO:tensorflow:Assets written to: c:\\Users\\cmd\\Dropbox\\Teaching\\amlFall2023\\lectures\\lecture-intro-nn\\wandb\\run-20231012_150728-yr8f3bu6\\files\\model-best\\assets\n"
     ]
    },
    {
     "name": "stderr",
     "output_type": "stream",
     "text": [
      "\u001b[34m\u001b[1mwandb\u001b[0m: Adding directory to artifact (c:\\Users\\cmd\\Dropbox\\Teaching\\amlFall2023\\lectures\\lecture-intro-nn\\wandb\\run-20231012_150728-yr8f3bu6\\files\\model-best)... Done. 0.0s\n"
     ]
    },
    {
     "name": "stdout",
     "output_type": "stream",
     "text": [
      "1875/1875 [==============================] - 4s 2ms/step - loss: 0.4852 - accuracy: 0.8270 - val_loss: 0.4665 - val_accuracy: 0.8334\n",
      "Epoch 3/10\n",
      "2/2 [==============================] - 0s 2ms/step0s - loss: 0.4311 - accuracy: 0.84\n",
      "Epoch 00002: val_loss improved from 0.46648 to 0.45351, saving model to c:\\Users\\cmd\\Dropbox\\Teaching\\amlFall2023\\lectures\\lecture-intro-nn\\wandb\\run-20231012_150728-yr8f3bu6\\files\\model-best.h5\n",
      "INFO:tensorflow:Assets written to: c:\\Users\\cmd\\Dropbox\\Teaching\\amlFall2023\\lectures\\lecture-intro-nn\\wandb\\run-20231012_150728-yr8f3bu6\\files\\model-best\\assets\n"
     ]
    },
    {
     "name": "stderr",
     "output_type": "stream",
     "text": [
      "\u001b[34m\u001b[1mwandb\u001b[0m: Adding directory to artifact (c:\\Users\\cmd\\Dropbox\\Teaching\\amlFall2023\\lectures\\lecture-intro-nn\\wandb\\run-20231012_150728-yr8f3bu6\\files\\model-best)... Done. 0.0s\n"
     ]
    },
    {
     "name": "stdout",
     "output_type": "stream",
     "text": [
      "1875/1875 [==============================] - 4s 2ms/step - loss: 0.4315 - accuracy: 0.8461 - val_loss: 0.4535 - val_accuracy: 0.8379\n",
      "Epoch 4/10\n",
      "2/2 [==============================] - 0s 0s/step 0s - loss: 0.3985 - accuracy: 0.85\n",
      "Epoch 00003: val_loss improved from 0.45351 to 0.44565, saving model to c:\\Users\\cmd\\Dropbox\\Teaching\\amlFall2023\\lectures\\lecture-intro-nn\\wandb\\run-20231012_150728-yr8f3bu6\\files\\model-best.h5\n",
      "INFO:tensorflow:Assets written to: c:\\Users\\cmd\\Dropbox\\Teaching\\amlFall2023\\lectures\\lecture-intro-nn\\wandb\\run-20231012_150728-yr8f3bu6\\files\\model-best\\assets\n"
     ]
    },
    {
     "name": "stderr",
     "output_type": "stream",
     "text": [
      "\u001b[34m\u001b[1mwandb\u001b[0m: Adding directory to artifact (c:\\Users\\cmd\\Dropbox\\Teaching\\amlFall2023\\lectures\\lecture-intro-nn\\wandb\\run-20231012_150728-yr8f3bu6\\files\\model-best)... Done. 0.0s\n"
     ]
    },
    {
     "name": "stdout",
     "output_type": "stream",
     "text": [
      "1875/1875 [==============================] - 3s 2ms/step - loss: 0.3980 - accuracy: 0.8579 - val_loss: 0.4456 - val_accuracy: 0.8406\n",
      "Epoch 5/10\n",
      "2/2 [==============================] - 0s 0s/step 0s - loss: 0.3744 - accuracy: 0.86\n",
      "Epoch 00004: val_loss improved from 0.44565 to 0.41115, saving model to c:\\Users\\cmd\\Dropbox\\Teaching\\amlFall2023\\lectures\\lecture-intro-nn\\wandb\\run-20231012_150728-yr8f3bu6\\files\\model-best.h5\n",
      "INFO:tensorflow:Assets written to: c:\\Users\\cmd\\Dropbox\\Teaching\\amlFall2023\\lectures\\lecture-intro-nn\\wandb\\run-20231012_150728-yr8f3bu6\\files\\model-best\\assets\n"
     ]
    },
    {
     "name": "stderr",
     "output_type": "stream",
     "text": [
      "\u001b[34m\u001b[1mwandb\u001b[0m: Adding directory to artifact (c:\\Users\\cmd\\Dropbox\\Teaching\\amlFall2023\\lectures\\lecture-intro-nn\\wandb\\run-20231012_150728-yr8f3bu6\\files\\model-best)... Done. 0.0s\n"
     ]
    },
    {
     "name": "stdout",
     "output_type": "stream",
     "text": [
      "1875/1875 [==============================] - 3s 2ms/step - loss: 0.3747 - accuracy: 0.8650 - val_loss: 0.4111 - val_accuracy: 0.8517\n",
      "Epoch 6/10\n",
      "2/2 [==============================] - 0s 0s/step 0s - loss: 0.3563 - accuracy: 0.87\n",
      "Epoch 00005: val_loss improved from 0.41115 to 0.40634, saving model to c:\\Users\\cmd\\Dropbox\\Teaching\\amlFall2023\\lectures\\lecture-intro-nn\\wandb\\run-20231012_150728-yr8f3bu6\\files\\model-best.h5\n",
      "INFO:tensorflow:Assets written to: c:\\Users\\cmd\\Dropbox\\Teaching\\amlFall2023\\lectures\\lecture-intro-nn\\wandb\\run-20231012_150728-yr8f3bu6\\files\\model-best\\assets\n"
     ]
    },
    {
     "name": "stderr",
     "output_type": "stream",
     "text": [
      "\u001b[34m\u001b[1mwandb\u001b[0m: Adding directory to artifact (c:\\Users\\cmd\\Dropbox\\Teaching\\amlFall2023\\lectures\\lecture-intro-nn\\wandb\\run-20231012_150728-yr8f3bu6\\files\\model-best)... Done. 0.0s\n"
     ]
    },
    {
     "name": "stdout",
     "output_type": "stream",
     "text": [
      "1875/1875 [==============================] - 3s 2ms/step - loss: 0.3568 - accuracy: 0.8701 - val_loss: 0.4063 - val_accuracy: 0.8568\n",
      "Epoch 7/10\n",
      "2/2 [==============================] - 0s 0s/step 0s - loss: 0.3437 - accuracy: 0.87\n",
      "Epoch 00006: val_loss improved from 0.40634 to 0.40145, saving model to c:\\Users\\cmd\\Dropbox\\Teaching\\amlFall2023\\lectures\\lecture-intro-nn\\wandb\\run-20231012_150728-yr8f3bu6\\files\\model-best.h5\n",
      "INFO:tensorflow:Assets written to: c:\\Users\\cmd\\Dropbox\\Teaching\\amlFall2023\\lectures\\lecture-intro-nn\\wandb\\run-20231012_150728-yr8f3bu6\\files\\model-best\\assets\n"
     ]
    },
    {
     "name": "stderr",
     "output_type": "stream",
     "text": [
      "\u001b[34m\u001b[1mwandb\u001b[0m: Adding directory to artifact (c:\\Users\\cmd\\Dropbox\\Teaching\\amlFall2023\\lectures\\lecture-intro-nn\\wandb\\run-20231012_150728-yr8f3bu6\\files\\model-best)... Done. 0.0s\n"
     ]
    },
    {
     "name": "stdout",
     "output_type": "stream",
     "text": [
      "1875/1875 [==============================] - 3s 2ms/step - loss: 0.3435 - accuracy: 0.8749 - val_loss: 0.4015 - val_accuracy: 0.8576\n",
      "Epoch 8/10\n",
      "2/2 [==============================] - 0s 0s/step 0s - loss: 0.3306 - accuracy: 0.87\n",
      "Epoch 00007: val_loss improved from 0.40145 to 0.38043, saving model to c:\\Users\\cmd\\Dropbox\\Teaching\\amlFall2023\\lectures\\lecture-intro-nn\\wandb\\run-20231012_150728-yr8f3bu6\\files\\model-best.h5\n",
      "INFO:tensorflow:Assets written to: c:\\Users\\cmd\\Dropbox\\Teaching\\amlFall2023\\lectures\\lecture-intro-nn\\wandb\\run-20231012_150728-yr8f3bu6\\files\\model-best\\assets\n"
     ]
    },
    {
     "name": "stderr",
     "output_type": "stream",
     "text": [
      "\u001b[34m\u001b[1mwandb\u001b[0m: Adding directory to artifact (c:\\Users\\cmd\\Dropbox\\Teaching\\amlFall2023\\lectures\\lecture-intro-nn\\wandb\\run-20231012_150728-yr8f3bu6\\files\\model-best)... Done. 0.0s\n"
     ]
    },
    {
     "name": "stdout",
     "output_type": "stream",
     "text": [
      "1875/1875 [==============================] - 3s 2ms/step - loss: 0.3306 - accuracy: 0.8796 - val_loss: 0.3804 - val_accuracy: 0.8645\n",
      "Epoch 9/10\n",
      "2/2 [==============================] - 0s 0s/step 0s - loss: 0.3211 - accuracy: 0.88\n",
      "1875/1875 [==============================] - 3s 1ms/step - loss: 0.3208 - accuracy: 0.8842 - val_loss: 0.3941 - val_accuracy: 0.8572\n",
      "Epoch 10/10\n",
      "2/2 [==============================] - 0s 3ms/step0s - loss: 0.3101 - accuracy: 0.88\n",
      "Epoch 00009: val_loss improved from 0.38043 to 0.36269, saving model to c:\\Users\\cmd\\Dropbox\\Teaching\\amlFall2023\\lectures\\lecture-intro-nn\\wandb\\run-20231012_150728-yr8f3bu6\\files\\model-best.h5\n",
      "INFO:tensorflow:Assets written to: c:\\Users\\cmd\\Dropbox\\Teaching\\amlFall2023\\lectures\\lecture-intro-nn\\wandb\\run-20231012_150728-yr8f3bu6\\files\\model-best\\assets\n"
     ]
    },
    {
     "name": "stderr",
     "output_type": "stream",
     "text": [
      "\u001b[34m\u001b[1mwandb\u001b[0m: Adding directory to artifact (c:\\Users\\cmd\\Dropbox\\Teaching\\amlFall2023\\lectures\\lecture-intro-nn\\wandb\\run-20231012_150728-yr8f3bu6\\files\\model-best)... Done. 0.0s\n"
     ]
    },
    {
     "name": "stdout",
     "output_type": "stream",
     "text": [
      "1875/1875 [==============================] - 3s 2ms/step - loss: 0.3097 - accuracy: 0.8854 - val_loss: 0.3627 - val_accuracy: 0.8718\n",
      "313/313 [==============================] - 0s 750us/step\n"
     ]
    },
    {
     "data": {
      "text/html": [
       "Waiting for W&B process to finish... <strong style=\"color:green\">(success).</strong>"
      ],
      "text/plain": [
       "<IPython.core.display.HTML object>"
      ]
     },
     "metadata": {},
     "output_type": "display_data"
    },
    {
     "data": {
      "text/html": [
       "<style>\n",
       "    table.wandb td:nth-child(1) { padding: 0 10px; text-align: left ; width: auto;} td:nth-child(2) {text-align: left ; width: 100%}\n",
       "    .wandb-row { display: flex; flex-direction: row; flex-wrap: wrap; justify-content: flex-start; width: 100% }\n",
       "    .wandb-col { display: flex; flex-direction: column; flex-basis: 100%; flex: 1; padding: 10px; }\n",
       "    </style>\n",
       "<div class=\"wandb-row\"><div class=\"wandb-col\"><h3>Run history:</h3><br/><table class=\"wandb\"><tr><td>accuracy</td><td>▁▅▆▇▇▇████</td></tr><tr><td>epoch</td><td>▁▂▃▃▄▅▆▆▇█</td></tr><tr><td>loss</td><td>█▄▃▂▂▂▁▁▁▁</td></tr><tr><td>val_accuracy</td><td>▁▅▅▅▆▇▇▇▇█</td></tr><tr><td>val_loss</td><td>█▅▄▄▃▃▂▂▂▁</td></tr></table><br/></div><div class=\"wandb-col\"><h3>Run summary:</h3><br/><table class=\"wandb\"><tr><td>accuracy</td><td>0.88538</td></tr><tr><td>best_epoch</td><td>9</td></tr><tr><td>best_val_loss</td><td>0.36269</td></tr><tr><td>epoch</td><td>9</td></tr><tr><td>loss</td><td>0.30971</td></tr><tr><td>val_accuracy</td><td>0.8718</td></tr><tr><td>val_loss</td><td>0.36269</td></tr></table><br/></div></div>"
      ],
      "text/plain": [
       "<IPython.core.display.HTML object>"
      ]
     },
     "metadata": {},
     "output_type": "display_data"
    },
    {
     "data": {
      "text/html": [
       " View run <strong style=\"color:#cdcd00\">fashion-mnist-small_exercise-nn-saveload</strong> at: <a href='https://wandb.ai/christianmdahl/amlfall23/runs/h5iz1w32' target=\"_blank\">https://wandb.ai/christianmdahl/amlfall23/runs/h5iz1w32</a><br/>Synced 5 W&B file(s), 361 media file(s), 37 artifact file(s) and 0 other file(s)"
      ],
      "text/plain": [
       "<IPython.core.display.HTML object>"
      ]
     },
     "metadata": {},
     "output_type": "display_data"
    },
    {
     "data": {
      "text/html": [
       "Find logs at: <code>.\\wandb\\run-20231012_151506-h5iz1w32\\logs</code>"
      ],
      "text/plain": [
       "<IPython.core.display.HTML object>"
      ]
     },
     "metadata": {},
     "output_type": "display_data"
    }
   ],
   "source": [
    "\n",
    "run = wandb.init(project=\"amlfall23\",entity='christianmdahl',job_type='train')\n",
    "history_relu = model_relu.fit(x_train, y_train,\n",
    "                                 validation_data=(x_test, y_test),\n",
    "                                 epochs=10, verbose=1,\n",
    "                                 callbacks = callbacks)\n",
    "run.finish()\n"
   ]
  }
 ],
 "metadata": {
  "kernelspec": {
   "display_name": "Python 3 (ipykernel)",
   "language": "python",
   "name": "python3"
  },
  "language_info": {
   "codemirror_mode": {
    "name": "ipython",
    "version": 3
   },
   "file_extension": ".py",
   "mimetype": "text/x-python",
   "name": "python",
   "nbconvert_exporter": "python",
   "pygments_lexer": "ipython3",
   "version": "3.10.13"
  },
  "vscode": {
   "interpreter": {
    "hash": "d3cedec8935a2c28d6fd602c3007747750e2af1c4c937c29fac0d323bf1b544b"
   }
  }
 },
 "nbformat": 4,
 "nbformat_minor": 4
}
