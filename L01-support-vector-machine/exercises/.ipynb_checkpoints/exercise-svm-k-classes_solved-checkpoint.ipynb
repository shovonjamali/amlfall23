{
 "cells": [
  {
   "cell_type": "markdown",
   "metadata": {},
   "source": [
    "# Exercise - SVM for classification of 10 classes\n",
    "\n",
    "1. Try to split your training data (again using **train_test_split**) to obtain a validation set. Try to optimize the performance of your model on the validation data, by trying different kernels (linear, poly, and rbf), different values of C, different decision function (ovr or ovo), and perhaps even other stuff (you can find a full list of options to tune at https://scikit-learn.org/stable/modules/generated/sklearn.svm.SVC.html}.\n",
    "\n",
    "**See slides for more details!**"
   ]
  },
  {
   "cell_type": "code",
   "execution_count": 1,
   "metadata": {},
   "outputs": [
    {
     "name": "stdout",
     "output_type": "stream",
     "text": [
      "(1437, 64) (360, 64) (1437,) (360,)\n",
      "(1149, 64) (288, 64) (360, 64) (1149,) (288,) (360,)\n"
     ]
    }
   ],
   "source": [
    "from sklearn.datasets import load_digits\n",
    "from sklearn.model_selection import train_test_split\n",
    "from sklearn.metrics import accuracy_score\n",
    "from sklearn import svm\n",
    "import pandas as pd\n",
    "import numpy as np\n",
    "\n",
    "# Load the digits dataset\n",
    "X, y = load_digits(return_X_y=True)\n",
    "\n",
    "# We use `train_test_split` to split our data into a train and a test set.\n",
    "X_train, X_test, y_train, y_test = train_test_split(X, y, test_size=0.2, random_state=42)\n",
    "print(X_train.shape, X_test.shape, y_train.shape, y_test.shape)\n",
    "\n",
    "# Now split the train data to also obtain validation data\n",
    "X_train, X_val, y_train, y_val = train_test_split(X_train, y_train, test_size=0.2, random_state=42)\n",
    "print(X_train.shape, X_val.shape, X_test.shape, y_train.shape, y_val.shape, y_test.shape)"
   ]
  },
  {
   "cell_type": "code",
   "execution_count": 2,
   "metadata": {},
   "outputs": [
    {
     "name": "stdout",
     "output_type": "stream",
     "text": [
      "    Accuracy  Kernel        C Decision function\n",
      "0       98.6  linear    0.001               ovr\n",
      "1       98.6  linear    0.001               ovo\n",
      "2       99.3  linear    0.500               ovr\n",
      "3       99.3  linear    0.500               ovo\n",
      "4       99.3  linear    1.000               ovr\n",
      "5       99.3  linear    1.000               ovo\n",
      "6       99.3  linear   10.000               ovr\n",
      "7       99.3  linear   10.000               ovo\n",
      "8       99.3  linear  100.000               ovr\n",
      "9       99.3  linear  100.000               ovo\n",
      "10       7.3    poly    0.001               ovr\n",
      "11       7.3    poly    0.001               ovo\n",
      "12      99.3    poly    0.500               ovr\n",
      "13      99.3    poly    0.500               ovo\n",
      "14      99.7    poly    1.000               ovr\n",
      "15      99.7    poly    1.000               ovo\n",
      "16     100.0    poly   10.000               ovr\n",
      "17     100.0    poly   10.000               ovo\n",
      "18     100.0    poly  100.000               ovr\n",
      "19     100.0    poly  100.000               ovo\n",
      "20       7.3     rbf    0.001               ovr\n",
      "21       7.3     rbf    0.001               ovo\n",
      "22      98.6     rbf    0.500               ovr\n",
      "23      98.6     rbf    0.500               ovo\n",
      "24     100.0     rbf    1.000               ovr\n",
      "25     100.0     rbf    1.000               ovo\n",
      "26     100.0     rbf   10.000               ovr\n",
      "27     100.0     rbf   10.000               ovo\n",
      "28     100.0     rbf  100.000               ovr\n",
      "29     100.0     rbf  100.000               ovo\n"
     ]
    }
   ],
   "source": [
    "kernels = ['linear', 'poly', 'rbf'] # input values seperated by \",\".\n",
    "Cs = [0.001, 0.5, 1, 10, 100] # input values seperated by \",\".\n",
    "decision_functions = ['ovr', 'ovo'] # input values seperated by \",\".\n",
    "\n",
    "results = []\n",
    "\n",
    "for kernel in kernels:\n",
    "    for C in Cs:\n",
    "        for decision_function in decision_functions:\n",
    "            svm_current = svm.SVC(kernel=kernel, C=C, decision_function_shape=decision_function)\n",
    "            svm_current.fit(X_train, y_train)\n",
    "            y_val_hat = svm_current.predict(X_val)\n",
    "            accuracy = accuracy_score(y_val_hat, y_val)\n",
    "\n",
    "            results.append([round(accuracy * 100, 1), kernel, C, decision_function])\n",
    "\n",
    "results = pd.DataFrame(results)\n",
    "results.columns = ['Accuracy', 'Kernel', 'C', 'Decision function']\n",
    "print(results)"
   ]
  },
  {
   "cell_type": "code",
   "execution_count": 3,
   "metadata": {},
   "outputs": [
    {
     "data": {
      "text/html": [
       "<div>\n",
       "<style scoped>\n",
       "    .dataframe tbody tr th:only-of-type {\n",
       "        vertical-align: middle;\n",
       "    }\n",
       "\n",
       "    .dataframe tbody tr th {\n",
       "        vertical-align: top;\n",
       "    }\n",
       "\n",
       "    .dataframe thead th {\n",
       "        text-align: right;\n",
       "    }\n",
       "</style>\n",
       "<table border=\"1\" class=\"dataframe\">\n",
       "  <thead>\n",
       "    <tr style=\"text-align: right;\">\n",
       "      <th></th>\n",
       "      <th>Accuracy</th>\n",
       "      <th>Kernel</th>\n",
       "      <th>C</th>\n",
       "      <th>Decision function</th>\n",
       "    </tr>\n",
       "  </thead>\n",
       "  <tbody>\n",
       "    <tr>\n",
       "      <th>16</th>\n",
       "      <td>100.0</td>\n",
       "      <td>poly</td>\n",
       "      <td>10.0</td>\n",
       "      <td>ovr</td>\n",
       "    </tr>\n",
       "    <tr>\n",
       "      <th>17</th>\n",
       "      <td>100.0</td>\n",
       "      <td>poly</td>\n",
       "      <td>10.0</td>\n",
       "      <td>ovo</td>\n",
       "    </tr>\n",
       "    <tr>\n",
       "      <th>18</th>\n",
       "      <td>100.0</td>\n",
       "      <td>poly</td>\n",
       "      <td>100.0</td>\n",
       "      <td>ovr</td>\n",
       "    </tr>\n",
       "    <tr>\n",
       "      <th>19</th>\n",
       "      <td>100.0</td>\n",
       "      <td>poly</td>\n",
       "      <td>100.0</td>\n",
       "      <td>ovo</td>\n",
       "    </tr>\n",
       "    <tr>\n",
       "      <th>24</th>\n",
       "      <td>100.0</td>\n",
       "      <td>rbf</td>\n",
       "      <td>1.0</td>\n",
       "      <td>ovr</td>\n",
       "    </tr>\n",
       "    <tr>\n",
       "      <th>25</th>\n",
       "      <td>100.0</td>\n",
       "      <td>rbf</td>\n",
       "      <td>1.0</td>\n",
       "      <td>ovo</td>\n",
       "    </tr>\n",
       "    <tr>\n",
       "      <th>26</th>\n",
       "      <td>100.0</td>\n",
       "      <td>rbf</td>\n",
       "      <td>10.0</td>\n",
       "      <td>ovr</td>\n",
       "    </tr>\n",
       "    <tr>\n",
       "      <th>27</th>\n",
       "      <td>100.0</td>\n",
       "      <td>rbf</td>\n",
       "      <td>10.0</td>\n",
       "      <td>ovo</td>\n",
       "    </tr>\n",
       "    <tr>\n",
       "      <th>28</th>\n",
       "      <td>100.0</td>\n",
       "      <td>rbf</td>\n",
       "      <td>100.0</td>\n",
       "      <td>ovr</td>\n",
       "    </tr>\n",
       "    <tr>\n",
       "      <th>29</th>\n",
       "      <td>100.0</td>\n",
       "      <td>rbf</td>\n",
       "      <td>100.0</td>\n",
       "      <td>ovo</td>\n",
       "    </tr>\n",
       "  </tbody>\n",
       "</table>\n",
       "</div>"
      ],
      "text/plain": [
       "    Accuracy Kernel      C Decision function\n",
       "16     100.0   poly   10.0               ovr\n",
       "17     100.0   poly   10.0               ovo\n",
       "18     100.0   poly  100.0               ovr\n",
       "19     100.0   poly  100.0               ovo\n",
       "24     100.0    rbf    1.0               ovr\n",
       "25     100.0    rbf    1.0               ovo\n",
       "26     100.0    rbf   10.0               ovr\n",
       "27     100.0    rbf   10.0               ovo\n",
       "28     100.0    rbf  100.0               ovr\n",
       "29     100.0    rbf  100.0               ovo"
      ]
     },
     "execution_count": 3,
     "metadata": {},
     "output_type": "execute_result"
    }
   ],
   "source": [
    "# Extract best parameters.\n",
    "results[results['Accuracy'] == results['Accuracy'].max()]"
   ]
  },
  {
   "cell_type": "code",
   "execution_count": 4,
   "metadata": {},
   "outputs": [
    {
     "name": "stdout",
     "output_type": "stream",
     "text": [
      "Optimized SVM achieved 98.6% accuracy.\n"
     ]
    }
   ],
   "source": [
    "# Initialize your final model\n",
    "svm_optimized = svm.SVC(kernel='rbf', C=100, decision_function_shape='ovr')\n",
    "\n",
    "# Use both training and validation data to fit it (np.concatenate \"stacks\" the array like rbind in R)\n",
    "svm_optimized.fit(np.concatenate([X_train, X_val]), np.concatenate([y_train, y_val]))\n",
    "\n",
    "# Predict on test data\n",
    "y_val_hat_optimized = svm_optimized.predict(X_test)\n",
    "\n",
    "# Obtain and check accuracy on test data\n",
    "accuracy_optimized = accuracy_score(y_val_hat_optimized, y_test)\n",
    "print(f'Optimized SVM achieved {round(accuracy_optimized * 100, 1)}% accuracy.')"
   ]
  },
  {
   "cell_type": "code",
   "execution_count": null,
   "metadata": {},
   "outputs": [],
   "source": []
  }
 ],
 "metadata": {
  "kernelspec": {
   "display_name": "Python 3 (ipykernel)",
   "language": "python",
   "name": "python3"
  },
  "language_info": {
   "codemirror_mode": {
    "name": "ipython",
    "version": 3
   },
   "file_extension": ".py",
   "mimetype": "text/x-python",
   "name": "python",
   "nbconvert_exporter": "python",
   "pygments_lexer": "ipython3",
   "version": "3.10.13"
  }
 },
 "nbformat": 4,
 "nbformat_minor": 4
}
